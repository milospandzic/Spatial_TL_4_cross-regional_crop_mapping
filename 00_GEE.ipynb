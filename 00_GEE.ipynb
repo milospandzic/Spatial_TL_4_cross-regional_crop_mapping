{
  "cells": [
    {
      "cell_type": "markdown",
      "metadata": {
        "id": "LXMda-a1tANH"
      },
      "source": [
        "# What to change? (minimum)\n",
        "*   Paths replacement at 3 palces for FeatureCollection aka fc: `projects/user-project/assets/SLO-part1`\\\n",
        "*   Change file name where saving (Slovenia#No or 33TUL): `with open(f'Slovenia1/%s.txt' % fc.getInfo().get('features')[0].get('properties').get('ID'), 'w') as f:`\\\n",
        "*   Change filtering of granules in s2 imageCollection\n",
        "*   In Downlaod change filenames according to granule\n"
      ]
    },
    {
      "cell_type": "code",
      "execution_count": null,
      "metadata": {
        "id": "TwRRdPSpkCvA"
      },
      "outputs": [],
      "source": [
        "import pandas as pd\n",
        "import matplotlib.pyplot as plt\n",
        "import numpy as np\n",
        "\n",
        "import ee\n",
        "import google\n",
        "import os\n",
        "\n",
        "import json\n",
        "!pip install retry\n",
        "from retry import retry"
      ]
    },
    {
      "cell_type": "code",
      "execution_count": null,
      "metadata": {
        "id": "aWSkXMTCkJEF"
      },
      "outputs": [],
      "source": [
        "from google.colab import drive, files\n",
        "drive.mount('/content/gdrive/')"
      ]
    },
    {
      "cell_type": "code",
      "execution_count": null,
      "metadata": {
        "id": "RtPnz5-0kKEx"
      },
      "outputs": [],
      "source": [
        "%cd /content/gdrive/MyDrive/PhD_p2\n",
        "%pwd"
      ]
    },
    {
      "cell_type": "code",
      "execution_count": null,
      "metadata": {
        "id": "jsxUoOFjkJ9L"
      },
      "outputs": [],
      "source": [
        "COLAB_AUTH_FLOW_CLOUD_PROJECT_FOR_API_CALLS = None\n",
        "\n",
        "import ee\n",
        "import google\n",
        "import os\n",
        "\n",
        "if COLAB_AUTH_FLOW_CLOUD_PROJECT_FOR_API_CALLS is None:\n",
        "  print(\"Authenticating using Notebook auth...\")\n",
        "  if os.path.exists(ee.oauth.get_credentials_path()) is False:\n",
        "    ee.Authenticate()\n",
        "  else:\n",
        "    print('\\N{check mark} '\n",
        "          'Previously created authentication credentials were found.')\n",
        "  ee.Initialize(project='user-project', opt_url='https://earthengine-highvolume.googleapis.com') # user project name\n",
        "else:\n",
        "  print('Authenticating using Colab auth...')\n",
        "  # Authenticate to populate Application Default Credentials in the Colab VM.\n",
        "  google.colab.auth.authenticate_user()\n",
        "  # Create credentials needed for accessing Earth Engine.\n",
        "  credentials, auth_project_id = google.auth.default()\n",
        "  # Initialize Earth Engine.\n",
        "  ee.Initialize(credentials, project=COLAB_AUTH_FLOW_CLOUD_PROJECT_FOR_API_CALLS, opt_url='https://earthengine-highvolume.googleapis.com')\n",
        "print('\\N{check mark} Successfully initialized!')"
      ]
    },
    {
      "cell_type": "code",
      "execution_count": null,
      "metadata": {
        "id": "ODrKYhG_uZNO"
      },
      "outputs": [],
      "source": [
        "fc = ee.FeatureCollection('projects/user-project/assets/S133TXM')\n",
        "\n",
        "def getRequests():\n",
        "  \"\"\"Generates a list of work items to be downloaded.\n",
        "  Produces 1000 random points in each of the RESOLVE ecoregions in the ROI.\n",
        "  \"\"\"\n",
        "  fc = ee.FeatureCollection('projects/user-project/assets/S133TXM')\n",
        "\n",
        "  return fc.aggregate_array('system:index').getInfo()\n",
        "\n",
        "print(getRequests())"
      ]
    },
    {
      "cell_type": "code",
      "execution_count": null,
      "metadata": {
        "id": "YPlLOWZ7rlaX"
      },
      "outputs": [],
      "source": [
        "# For Sentinel-2 processing\n",
        "\n",
        "# // Calcaulate NDVI\n",
        "def add_ndvi(img):\n",
        "  ndvi = img.normalizedDifference(['B8', 'B4']).rename('NDVI').copyProperties(img, ['system:time_start']);\n",
        "  return(img.addBands(ndvi));\n",
        "\n",
        "# //Calculate EVI\n",
        "def add_evi(img):\n",
        "  evi=img.expression('2.5 * (NIR - RED) / ((NIR + 6*RED - 7.5*BLUE) + 1)',{\n",
        "  'BLUE':img.select('B2'),\n",
        "  'RED':img.select('B4'),\n",
        "  'NIR':img.select('B8')}).rename('EVI');\n",
        "  return(img.addBands(evi));\n",
        "\n",
        "# //Calculate EVI2\n",
        "def add_evi2(img):\n",
        "  evi2=img.expression('2.5 * (NIR - RED) / (NIR + 2.4*RED + 1)',{\n",
        "  'BLUE':img.select('B2'),\n",
        "  'RED':img.select('B4'),\n",
        "  'NIR':img.select('B8')}).rename('EVI2');\n",
        "  return(img.addBands(evi2));\n",
        "\n",
        "# //Calculate NDMI\n",
        "def add_ndmi(img):\n",
        "  ndmi=img.expression('(NIRnarrow - SWIR)/(NIRnarrow + SWIR)',{\n",
        "  'SWIR':img.select('B11'),\n",
        "  'NIRnarrow':img.select('B8A')}).rename('NDMI');\n",
        "  return(img.addBands(ndmi));\n",
        "\n",
        "# //Calculate SAVI\n",
        "def add_savi(img):\n",
        "  savi=img.expression('( (NIR - RED) / (NIR + RED + 0.5) ) * (1 + 0.5)',{\n",
        "  'RED':img.select('B4'),\n",
        "  'NIR':img.select('B8')}).rename('SAVI');\n",
        "  return(img.addBands(savi));\n",
        "\n",
        "# //Calculate PSRI (Plant senescence reflectance index)\n",
        "def add_psri(img):\n",
        "  psri=img.expression('(RED - BLUE) / Re2',{\n",
        "  'BLUE':img.select('B2'),\n",
        "  'RED':img.select('B4'),\n",
        "  'Re2':img.select('B6')}).rename('PSRI');\n",
        "  return(img.addBands(psri));\n",
        "\n",
        "# //Calculate SeLI\n",
        "def add_seli(img):\n",
        "  seli=img.expression('(NIRnarrow - RedEdgeI) / (NIRnarrow + RedEdgeI)',{\n",
        "  'RedEdgeI':img.select('B5'),\n",
        "  'NIRnarrow':img.select('B8A')}).rename('SeLI');\n",
        "  return(img.addBands(seli));\n",
        "\n",
        "# //Calculate ARVI\n",
        "def add_arvi(img):\n",
        "  arvi=img.expression('(NIR - RED - 1 * (RED - BLUE)) / (NIR + RED - 1 * (RED - BLUE))',{\n",
        "  'BLUE':img.select('B2'),\n",
        "  'RED':img.select('B4'),\n",
        "  'NIR':img.select('B8')}).rename('ARVI');\n",
        "  return(img.addBands(arvi));\n",
        "\n",
        "# //Calculate ExG\n",
        "def add_exg(img):\n",
        "  exg=img.expression('2 * GREEN - RED - BLUE',{\n",
        "  'BLUE':img.select('B2'),\n",
        "  'GREEN':img.select('B3'),\n",
        "  'RED':img.select('B4')}).rename('ExG');\n",
        "  return(img.addBands(exg));\n",
        "\n",
        "# //Calculate Chl-red-edge\n",
        "def add_chlre(img):\n",
        "  chlre=img.expression('(RedEdgeIII/RedEdgeI) - 1',{\n",
        "  'RedEdgeI':img.select('B5'),\n",
        "  'RedEdgeIII':img.select('B7')}).rename('Chl-red-edge');\n",
        "  return(img.addBands(chlre));"
      ]
    },
    {
      "cell_type": "code",
      "execution_count": null,
      "metadata": {
        "id": "ebm0dsTmirmx"
      },
      "outputs": [],
      "source": [
        "# For Sentinel-1 processing\n",
        "\n",
        "# //Calculate Simple Ratio (SR)\n",
        "def add_sr(img):\n",
        "  sr=img.expression('VH/VV',{\n",
        "  'VH':img.select('VH'),\n",
        "  'VV':img.select('VV')}).rename('SR');\n",
        "  return(img.addBands(sr));"
      ]
    },
    {
      "cell_type": "code",
      "execution_count": null,
      "metadata": {
        "id": "kY5iITJwtwu3"
      },
      "outputs": [],
      "source": [
        "# For Sentinel-2 processing, but not used in manuscript. In manuscript we used GEE's Cloud Score\n",
        "\n",
        "# // Function to mask non-vegetation pixels\n",
        "def maskNonVegetation(image):\n",
        "  # // Select the SCL band\n",
        "  scl = image.select('SCL')\n",
        "  # // Create a mask for vegetation class (value 4 for vegetation)\n",
        "  vegetationMask = scl.eq(4)\n",
        "  # // Update the image mask\n",
        "  return image.updateMask(vegetationMask)"
      ]
    },
    {
      "cell_type": "code",
      "execution_count": null,
      "metadata": {
        "id": "poUm5WZdzTBX"
      },
      "outputs": [],
      "source": [
        "# For Sentinel-2 processing in PhD_2.\n",
        "\n",
        "# Dealing with clouds (Google's product CLOUD SCORE)\n",
        "def csscore(img):\n",
        "  csPlus = ee.ImageCollection('GOOGLE/CLOUD_SCORE_PLUS/V1/S2_HARMONIZED')\n",
        "  QA_BAND = 'cs_cdf'\n",
        "  CLEAR_THRESHOLD = 0.65\n",
        "  score = img.updateMask(img.select(QA_BAND).gte(CLEAR_THRESHOLD))\n",
        "  return(score)"
      ]
    },
    {
      "cell_type": "code",
      "execution_count": null,
      "metadata": {
        "id": "-t6bottuLtoi"
      },
      "outputs": [],
      "source": [
        "!git clone https://github.com/adugnag/gee_s1_ard.git  /content/gdrive/MyDrive/PhD_p2/gee_s1_ard/"
      ]
    },
    {
      "cell_type": "code",
      "execution_count": null,
      "metadata": {
        "id": "mfiLdCgLULsw"
      },
      "outputs": [],
      "source": [
        "%cd /content/gdrive/MyDrive/PhD_p2/gee_s1_ard/python-api"
      ]
    },
    {
      "cell_type": "code",
      "execution_count": null,
      "metadata": {
        "id": "tT7W3dJ2i3YK"
      },
      "outputs": [],
      "source": [
        "import wrapper as wp\n",
        "\n",
        "@retry(tries=10, delay=1, backoff=2)\n",
        "def getResult(index, fc):\n",
        "  \"\"\"Handle the HTTP requests to download an image.\"\"\"\n",
        "\n",
        "  fc = ee.FeatureCollection('projects/user-project/assets/S133TXM').filter(ee.Filter.eq('system:index', fc))\n",
        "\n",
        "  # print(fc.getInfo().get('features')[0].get('properties').get('OBJECTID'))\n",
        "  print(str(fc.first().getInfo().get('properties').get('ID')))\n",
        "\n",
        "  # # # Using this only if it breaks or stops workng so that it doesn't go from beginning, but only process the remaining missing.\n",
        "  # if os.path.isfile(f'/content/gdrive/MyDrive/PhD_p2/S133TXM/%s.txt' % fc.getInfo().get('features')[0].get('properties').get('ID')):\n",
        "  #   print('Done')\n",
        "  #   return\n",
        "\n",
        "\n",
        "  # # # When dealing with Sentinel-1\n",
        "\n",
        "  #Parameters\n",
        "  parameter = {  'START_DATE': '2021-04-01',\n",
        "              'STOP_DATE': '2021-09-30',\n",
        "              'POLARIZATION': 'VVVH',\n",
        "              'ORBIT' : 'BOTH',\n",
        "              'ROI': fc.geometry(),\n",
        "              'APPLY_BORDER_NOISE_CORRECTION': True,\n",
        "              'APPLY_SPECKLE_FILTERING': True,\n",
        "              'SPECKLE_FILTER_FRAMEWORK':'MONO',\n",
        "              'SPECKLE_FILTER': 'LEE',\n",
        "              'SPECKLE_FILTER_KERNEL_SIZE': 5,\n",
        "              'SPECKLE_FILTER_NR_OF_IMAGES':10,\n",
        "              'APPLY_TERRAIN_FLATTENING': True,\n",
        "              'DEM': ee.Image('USGS/SRTMGL1_003'),\n",
        "              'TERRAIN_FLATTENING_MODEL': 'VOLUME',\n",
        "              'TERRAIN_FLATTENING_ADDITIONAL_LAYOVER_SHADOW_BUFFER':0,\n",
        "              'FORMAT': 'DB',\n",
        "              'CLIP_TO_ROI': False,\n",
        "              'SAVE_ASSET': False,\n",
        "              'ASSET_ID': \"users/amullissa\"\n",
        "              }\n",
        "  #processed s1 collection\n",
        "  s1_processed = wp.s1_preproc(parameter).select(['VH','VV']).map(add_sr)\n",
        "\n",
        "  tabledata = s1_processed.toBands().reduceRegion(reducer=ee.Reducer.median(), geometry=fc.geometry(), scale=10, bestEffort=True, maxPixels=15000000).getInfo()\n",
        "\n",
        "\n",
        "\n",
        "  # # # When dealing with Sentinel-2 (below)\n",
        "\n",
        "\n",
        "  # # Dealing with clouds (Google's product CLOUD SCORE)\n",
        "  # csPlus = ee.ImageCollection('GOOGLE/CLOUD_SCORE_PLUS/V1/S2_HARMONIZED')\n",
        "  # QA_BAND = 'cs_cdf'\n",
        "\n",
        "  # s2 = ee.ImageCollection('COPERNICUS/S2_SR_HARMONIZED').filterDate('2021-04-01','2021-09-30')\\\n",
        "  # .filterMetadata('MGRS_TILE', 'EQUALS','34TDS')\\\n",
        "  # .filter(ee.Filter.lt('CLOUDY_PIXEL_PERCENTAGE',100)).filterBounds(fc.geometry())\\\n",
        "  # .select(['SCL','B1','B2','B3','B4','B5','B6','B7','B8','B8A','B9','B11','B12']).map(add_ndvi).map(add_evi).map(add_evi2)\\\n",
        "  # .map(add_ndmi).map(add_savi).map(add_psri).map(add_seli).map(add_arvi).map(add_exg).map(add_chlre).linkCollection(csPlus, [QA_BAND]).map(csscore)\\\n",
        "  # .select(['B1','B2','B3','B4','B5','B6','B7','B8','B8A','B9','B11','B12','NDVI','EVI','EVI2','NDMI','SAVI','PSRI','SeLI','ARVI','ExG','Chl-red-edge']);\n",
        "\n",
        "  # s2.getInfo()\n",
        "\n",
        "  # # tabledata = s2.toBands().sample(region=fc.geometry(), scale=10, dropNulls=False).getInfo()\n",
        "  # tabledata = s2.toBands().reduceRegion(reducer=ee.Reducer.median(), geometry=fc.geometry(), scale=10, bestEffort=True, maxPixels=15000000).getInfo()\n",
        "\n",
        "\n",
        "  # Saving either for S1 or S2.\n",
        "  with open(f'/content/gdrive/MyDrive/PhD_p2/S133TXM/%s.txt' % fc.getInfo().get('features')[0].get('properties').get('ID'), 'w') as f:\n",
        "    f.write(str(tabledata))"
      ]
    },
    {
      "cell_type": "code",
      "execution_count": null,
      "metadata": {
        "id": "BjjxYioswwev"
      },
      "outputs": [],
      "source": [
        "import multiprocessing\n",
        "\n",
        "items = getRequests()\n",
        "\n",
        "pool = multiprocessing.Pool(25)\n",
        "pool.starmap(getResult, enumerate(items))\n",
        "pool.close()\n",
        "pool.join()\n",
        "\n",
        "print('Finsihed')"
      ]
    },
    {
      "cell_type": "markdown",
      "metadata": {
        "id": "nYUnq-LnKmsm"
      },
      "source": [
        "# Donwload of small .txt file from Google Drive"
      ]
    },
    {
      "cell_type": "code",
      "execution_count": null,
      "metadata": {
        "id": "hVpt-1JIKs2N"
      },
      "outputs": [],
      "source": [
        "!zip -r '/content/S133TXM.zip' '/content/gdrive/My Drive/PhD_p2/S133TXM'"
      ]
    },
    {
      "cell_type": "code",
      "execution_count": null,
      "metadata": {
        "id": "_zfEgQt8K7gt"
      },
      "outputs": [],
      "source": [
        "files.download(\"/content/S133TXM.zip\")"
      ]
    },
    {
      "cell_type": "markdown",
      "metadata": {
        "id": "4Dt_q0TbTSoG"
      },
      "source": [
        "### Checking number of files in a directory (folder) on Google drive and size of the folder."
      ]
    },
    {
      "cell_type": "code",
      "execution_count": null,
      "metadata": {
        "id": "7x2Mz0cPToLo"
      },
      "outputs": [],
      "source": [
        "import os\n",
        "# Specify the directory containing the files\n",
        "directory = '/content/gdrive/My Drive/PhD_p2/S133TXM'\n",
        "\n",
        "# List all files in the directory\n",
        "files = os.listdir(directory)\n",
        "\n",
        "# Count the number of files\n",
        "number_of_files = len(files)\n",
        "\n",
        "print(f'Total number of files: {number_of_files}')"
      ]
    },
    {
      "cell_type": "code",
      "execution_count": null,
      "metadata": {
        "id": "H5MA7PffUekJ"
      },
      "outputs": [],
      "source": [
        "import os\n",
        "\n",
        "def get_folder_size(directory):\n",
        "    total_size = 0\n",
        "    for dirpath, dirnames, filenames in os.walk(directory):\n",
        "        for filename in filenames:\n",
        "            filepath = os.path.join(dirpath, filename)\n",
        "            total_size += os.path.getsize(filepath)\n",
        "    return total_size\n",
        "\n",
        "# Specify the directory containing the files\n",
        "directory = 'Slovenia'\n",
        "\n",
        "# Calculate the total size of the folder\n",
        "folder_size = get_folder_size(directory)\n",
        "\n",
        "# Convert size to megabytes (optional)\n",
        "folder_size_mb = folder_size / (1024 * 1024)\n",
        "\n",
        "print(f'Total size of the folder: {folder_size_mb:.2f} MB')"
      ]
    },
    {
      "cell_type": "markdown",
      "source": [
        "# Some useful links while producing code"
      ],
      "metadata": {
        "id": "j3cXlwxTskGC"
      }
    },
    {
      "cell_type": "code",
      "execution_count": null,
      "metadata": {
        "id": "Twx_sAUyV9rj"
      },
      "outputs": [],
      "source": [
        "# https://gis.stackexchange.com/questions/344783/gee-create-imagecollection-of-a-specific-tile\n",
        "\"\"\"\n",
        "I think the you need to use the MGRS_TILE property to filter your collection metadata on:\n",
        "\n",
        "var dataset = ee.ImageCollection('COPERNICUS/S2')\n",
        "                  .filterDate('2019-10-14', '2019-12-08')\n",
        "                  .filterMetadata('MGRS_TILE', 'EQUALS','48QTD')\n",
        "Confusing bit is your property is probably 48QTD and not T48QTD?\n",
        "\"\"\"\n",
        "# https://datascience.stackexchange.com/questions/63855/how-to-load-numerous-files-from-google-drive-into-colab"
      ]
    }
  ],
  "metadata": {
    "colab": {
      "provenance": []
    },
    "kernelspec": {
      "display_name": "Python 3",
      "name": "python3"
    },
    "language_info": {
      "name": "python"
    }
  },
  "nbformat": 4,
  "nbformat_minor": 0
}